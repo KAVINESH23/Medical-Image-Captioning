{
  "nbformat": 4,
  "nbformat_minor": 0,
  "metadata": {
    "colab": {
      "provenance": [],
      "gpuType": "T4",
      "include_colab_link": true
    },
    "kernelspec": {
      "name": "python3",
      "display_name": "Python 3"
    },
    "language_info": {
      "name": "python"
    },
    "accelerator": "GPU"
  },
  "cells": [
    {
      "cell_type": "markdown",
      "metadata": {
        "id": "view-in-github",
        "colab_type": "text"
      },
      "source": [
        "<a href=\"https://colab.research.google.com/github/KAVINESH23/Medical-Image-Captioning/blob/main/Miniproject%20GIT.ipynb\" target=\"_parent\"><img src=\"https://colab.research.google.com/assets/colab-badge.svg\" alt=\"Open In Colab\"/></a>"
      ]
    },
    {
      "cell_type": "code",
      "execution_count": null,
      "metadata": {
        "colab": {
          "base_uri": "https://localhost:8080/"
        },
        "id": "01fGsLj1e1Tl",
        "outputId": "760baf0a-156b-469e-82aa-2a69ad1866a5"
      },
      "outputs": [
        {
          "output_type": "stream",
          "name": "stdout",
          "text": [
            "Requirement already satisfied: transformers in /usr/local/lib/python3.10/dist-packages (4.46.2)\n",
            "Collecting datasets\n",
            "  Downloading datasets-3.1.0-py3-none-any.whl.metadata (20 kB)\n",
            "Requirement already satisfied: torch in /usr/local/lib/python3.10/dist-packages (2.5.1+cu121)\n",
            "Requirement already satisfied: torchvision in /usr/local/lib/python3.10/dist-packages (0.20.1+cu121)\n",
            "Requirement already satisfied: filelock in /usr/local/lib/python3.10/dist-packages (from transformers) (3.16.1)\n",
            "Requirement already satisfied: huggingface-hub<1.0,>=0.23.2 in /usr/local/lib/python3.10/dist-packages (from transformers) (0.26.2)\n",
            "Requirement already satisfied: numpy>=1.17 in /usr/local/lib/python3.10/dist-packages (from transformers) (1.26.4)\n",
            "Requirement already satisfied: packaging>=20.0 in /usr/local/lib/python3.10/dist-packages (from transformers) (24.2)\n",
            "Requirement already satisfied: pyyaml>=5.1 in /usr/local/lib/python3.10/dist-packages (from transformers) (6.0.2)\n",
            "Requirement already satisfied: regex!=2019.12.17 in /usr/local/lib/python3.10/dist-packages (from transformers) (2024.9.11)\n",
            "Requirement already satisfied: requests in /usr/local/lib/python3.10/dist-packages (from transformers) (2.32.3)\n",
            "Requirement already satisfied: safetensors>=0.4.1 in /usr/local/lib/python3.10/dist-packages (from transformers) (0.4.5)\n",
            "Requirement already satisfied: tokenizers<0.21,>=0.20 in /usr/local/lib/python3.10/dist-packages (from transformers) (0.20.3)\n",
            "Requirement already satisfied: tqdm>=4.27 in /usr/local/lib/python3.10/dist-packages (from transformers) (4.66.6)\n",
            "Requirement already satisfied: pyarrow>=15.0.0 in /usr/local/lib/python3.10/dist-packages (from datasets) (17.0.0)\n",
            "Collecting dill<0.3.9,>=0.3.0 (from datasets)\n",
            "  Downloading dill-0.3.8-py3-none-any.whl.metadata (10 kB)\n",
            "Requirement already satisfied: pandas in /usr/local/lib/python3.10/dist-packages (from datasets) (2.2.2)\n",
            "Collecting xxhash (from datasets)\n",
            "  Downloading xxhash-3.5.0-cp310-cp310-manylinux_2_17_x86_64.manylinux2014_x86_64.whl.metadata (12 kB)\n",
            "Collecting multiprocess<0.70.17 (from datasets)\n",
            "  Downloading multiprocess-0.70.16-py310-none-any.whl.metadata (7.2 kB)\n",
            "Collecting fsspec<=2024.9.0,>=2023.1.0 (from fsspec[http]<=2024.9.0,>=2023.1.0->datasets)\n",
            "  Downloading fsspec-2024.9.0-py3-none-any.whl.metadata (11 kB)\n",
            "Requirement already satisfied: aiohttp in /usr/local/lib/python3.10/dist-packages (from datasets) (3.11.2)\n",
            "Requirement already satisfied: typing-extensions>=4.8.0 in /usr/local/lib/python3.10/dist-packages (from torch) (4.12.2)\n",
            "Requirement already satisfied: networkx in /usr/local/lib/python3.10/dist-packages (from torch) (3.4.2)\n",
            "Requirement already satisfied: jinja2 in /usr/local/lib/python3.10/dist-packages (from torch) (3.1.4)\n",
            "Requirement already satisfied: sympy==1.13.1 in /usr/local/lib/python3.10/dist-packages (from torch) (1.13.1)\n",
            "Requirement already satisfied: mpmath<1.4,>=1.1.0 in /usr/local/lib/python3.10/dist-packages (from sympy==1.13.1->torch) (1.3.0)\n",
            "Requirement already satisfied: pillow!=8.3.*,>=5.3.0 in /usr/local/lib/python3.10/dist-packages (from torchvision) (11.0.0)\n",
            "Requirement already satisfied: aiohappyeyeballs>=2.3.0 in /usr/local/lib/python3.10/dist-packages (from aiohttp->datasets) (2.4.3)\n",
            "Requirement already satisfied: aiosignal>=1.1.2 in /usr/local/lib/python3.10/dist-packages (from aiohttp->datasets) (1.3.1)\n",
            "Requirement already satisfied: attrs>=17.3.0 in /usr/local/lib/python3.10/dist-packages (from aiohttp->datasets) (24.2.0)\n",
            "Requirement already satisfied: frozenlist>=1.1.1 in /usr/local/lib/python3.10/dist-packages (from aiohttp->datasets) (1.5.0)\n",
            "Requirement already satisfied: multidict<7.0,>=4.5 in /usr/local/lib/python3.10/dist-packages (from aiohttp->datasets) (6.1.0)\n",
            "Requirement already satisfied: propcache>=0.2.0 in /usr/local/lib/python3.10/dist-packages (from aiohttp->datasets) (0.2.0)\n",
            "Requirement already satisfied: yarl<2.0,>=1.17.0 in /usr/local/lib/python3.10/dist-packages (from aiohttp->datasets) (1.17.2)\n",
            "Requirement already satisfied: async-timeout<6.0,>=4.0 in /usr/local/lib/python3.10/dist-packages (from aiohttp->datasets) (4.0.3)\n",
            "Requirement already satisfied: charset-normalizer<4,>=2 in /usr/local/lib/python3.10/dist-packages (from requests->transformers) (3.4.0)\n",
            "Requirement already satisfied: idna<4,>=2.5 in /usr/local/lib/python3.10/dist-packages (from requests->transformers) (3.10)\n",
            "Requirement already satisfied: urllib3<3,>=1.21.1 in /usr/local/lib/python3.10/dist-packages (from requests->transformers) (2.2.3)\n",
            "Requirement already satisfied: certifi>=2017.4.17 in /usr/local/lib/python3.10/dist-packages (from requests->transformers) (2024.8.30)\n",
            "Requirement already satisfied: MarkupSafe>=2.0 in /usr/local/lib/python3.10/dist-packages (from jinja2->torch) (3.0.2)\n",
            "Requirement already satisfied: python-dateutil>=2.8.2 in /usr/local/lib/python3.10/dist-packages (from pandas->datasets) (2.8.2)\n",
            "Requirement already satisfied: pytz>=2020.1 in /usr/local/lib/python3.10/dist-packages (from pandas->datasets) (2024.2)\n",
            "Requirement already satisfied: tzdata>=2022.7 in /usr/local/lib/python3.10/dist-packages (from pandas->datasets) (2024.2)\n",
            "Requirement already satisfied: six>=1.5 in /usr/local/lib/python3.10/dist-packages (from python-dateutil>=2.8.2->pandas->datasets) (1.16.0)\n",
            "Downloading datasets-3.1.0-py3-none-any.whl (480 kB)\n",
            "\u001b[2K   \u001b[90m━━━━━━━━━━━━━━━━━━━━━━━━━━━━━━━━━━━━━━━━\u001b[0m \u001b[32m480.6/480.6 kB\u001b[0m \u001b[31m14.4 MB/s\u001b[0m eta \u001b[36m0:00:00\u001b[0m\n",
            "\u001b[?25hDownloading dill-0.3.8-py3-none-any.whl (116 kB)\n",
            "\u001b[2K   \u001b[90m━━━━━━━━━━━━━━━━━━━━━━━━━━━━━━━━━━━━━━━━\u001b[0m \u001b[32m116.3/116.3 kB\u001b[0m \u001b[31m11.5 MB/s\u001b[0m eta \u001b[36m0:00:00\u001b[0m\n",
            "\u001b[?25hDownloading fsspec-2024.9.0-py3-none-any.whl (179 kB)\n",
            "\u001b[2K   \u001b[90m━━━━━━━━━━━━━━━━━━━━━━━━━━━━━━━━━━━━━━━━\u001b[0m \u001b[32m179.3/179.3 kB\u001b[0m \u001b[31m17.0 MB/s\u001b[0m eta \u001b[36m0:00:00\u001b[0m\n",
            "\u001b[?25hDownloading multiprocess-0.70.16-py310-none-any.whl (134 kB)\n",
            "\u001b[2K   \u001b[90m━━━━━━━━━━━━━━━━━━━━━━━━━━━━━━━━━━━━━━━━\u001b[0m \u001b[32m134.8/134.8 kB\u001b[0m \u001b[31m13.3 MB/s\u001b[0m eta \u001b[36m0:00:00\u001b[0m\n",
            "\u001b[?25hDownloading xxhash-3.5.0-cp310-cp310-manylinux_2_17_x86_64.manylinux2014_x86_64.whl (194 kB)\n",
            "\u001b[2K   \u001b[90m━━━━━━━━━━━━━━━━━━━━━━━━━━━━━━━━━━━━━━━━\u001b[0m \u001b[32m194.1/194.1 kB\u001b[0m \u001b[31m18.9 MB/s\u001b[0m eta \u001b[36m0:00:00\u001b[0m\n",
            "\u001b[?25hInstalling collected packages: xxhash, fsspec, dill, multiprocess, datasets\n",
            "  Attempting uninstall: fsspec\n",
            "    Found existing installation: fsspec 2024.10.0\n",
            "    Uninstalling fsspec-2024.10.0:\n",
            "      Successfully uninstalled fsspec-2024.10.0\n",
            "\u001b[31mERROR: pip's dependency resolver does not currently take into account all the packages that are installed. This behaviour is the source of the following dependency conflicts.\n",
            "gcsfs 2024.10.0 requires fsspec==2024.10.0, but you have fsspec 2024.9.0 which is incompatible.\u001b[0m\u001b[31m\n",
            "\u001b[0mSuccessfully installed datasets-3.1.0 dill-0.3.8 fsspec-2024.9.0 multiprocess-0.70.16 xxhash-3.5.0\n"
          ]
        }
      ],
      "source": [
        "!pip install transformers datasets torch torchvision\n"
      ]
    },
    {
      "cell_type": "code",
      "source": [
        "from torch.utils.data import Dataset, DataLoader\n",
        "import torch\n",
        "import os\n",
        "from PIL import Image\n",
        "import pandas as pd\n",
        "from transformers import AutoImageProcessor, AutoTokenizer\n",
        "\n",
        "\n",
        "# Preprocessing function\n",
        "def preprocess_images_and_captions(image_dir, caption_dir, image_processor, tokenizer):\n",
        "    images, captions = [], []\n",
        "\n",
        "    # Loop through all the images in the image directory\n",
        "    for image_name in os.listdir(image_dir): # image_dir is expected to be a single directory path\n",
        "        if image_name.endswith('.jpg') or image_name.endswith('.png'):  # Make sure it's an image file\n",
        "            # Load the image\n",
        "            image_path = os.path.join(image_dir, image_name)\n",
        "            image = Image.open(image_path).convert('L')  # Convert to grayscale\n",
        "\n",
        "            # Process image using the image processor\n",
        "            pixel_values = image_processor(image, return_tensors=\"pt\").pixel_values.squeeze(0)\n",
        "\n",
        "            # Read the corresponding caption from the caption directory\n",
        "            caption_file = os.path.join(caption_dir, f'{os.path.splitext(image_name)[0]}.txt')\n",
        "            if os.path.exists(caption_file):\n",
        "                with open(caption_file, 'r') as f:\n",
        "                    caption = f.read().strip()\n",
        "            else:\n",
        "                caption = \"\"  # In case the caption file is missing\n",
        "\n",
        "            # Append the image and caption to the lists\n",
        "            images.append(pixel_values)\n",
        "            captions.append(caption)\n",
        "\n",
        "    return images, captions\n",
        "\n",
        "class ImageCaptionDataset(Dataset):\n",
        "    def __init__(self, image_dirs, caption_dirs, image_processor, tokenizer): # Now accepts lists of directories\n",
        "        self.image_processor = image_processor\n",
        "        self.tokenizer = tokenizer\n",
        "        self.images, self.captions = [], []\n",
        "\n",
        "        # Iterate through each image and caption directory\n",
        "        for image_dir, caption_dir in zip(image_dirs, caption_dirs):\n",
        "            # Call preprocess_images_and_captions for each directory pair\n",
        "            images, captions = preprocess_images_and_captions(image_dir, caption_dir, image_processor, tokenizer)\n",
        "            self.images.extend(images) # Extend the lists with data from each directory\n",
        "            self.captions.extend(captions)\n",
        "\n",
        "    def __len__(self):\n",
        "        return len(self.images)\n",
        "\n",
        "    def __getitem__(self, idx):\n",
        "        image = self.images[idx]\n",
        "        caption = self.captions[idx]\n",
        "        # Tokenize the caption\n",
        "        encoding = self.tokenizer(caption, padding='max_length', truncation=True, max_length=50, return_tensors=\"pt\")\n",
        "        return image, encoding.input_ids.squeeze(0), encoding.attention_mask.squeeze(0)\n",
        "\n",
        "# Initialize dataset and dataloaders\n",
        "image_dirs = [ # Updated to image_dirs\n",
        "    \"/content/drive/MyDrive/radio_train\",\n",
        "    \"/content/drive/MyDrive/radio_validate\",\n",
        "    \"/content/drive/MyDrive/radio_test\"\n",
        "]\n",
        "caption_dirs = [ # Updated to caption_dirs\n",
        "    \"/content/drive/MyDrive/radio_traincaption\",\n",
        "    \"/content/drive/MyDrive/radio_validatecaption\",\n",
        "    \"/content/drive/MyDrive/radio_testcaption\"\n",
        "]\n",
        "\n",
        "image_processor = AutoImageProcessor.from_pretrained(\"microsoft/git-base\")\n",
        "tokenizer = AutoTokenizer.from_pretrained(\"microsoft/git-base\")\n",
        "\n",
        "# Pass the image_processor and tokenizer objects to the ImageCaptionDataset constructor\n",
        "dataset = ImageCaptionDataset(image_dirs, caption_dirs, image_processor, tokenizer)"
      ],
      "metadata": {
        "id": "tLvxembAmMbu"
      },
      "execution_count": null,
      "outputs": []
    },
    {
      "cell_type": "code",
      "source": [
        "train_loader = DataLoader(dataset, batch_size=8, shuffle=True)"
      ],
      "metadata": {
        "id": "p663Q87urcaF"
      },
      "execution_count": null,
      "outputs": []
    },
    {
      "cell_type": "code",
      "source": [
        "!pip install transformers --upgrade # Make sure transformers is up to date\n",
        "import torch\n",
        "from transformers import AutoModelForCausalLM, AutoImageProcessor, AutoTokenizer # Use AutoModelForCausalLM\n",
        "\n",
        "# Initialize the model using GitForCausalLM\n",
        "model = AutoModelForCausalLM.from_pretrained(\"microsoft/git-base\")\n"
      ],
      "metadata": {
        "colab": {
          "base_uri": "https://localhost:8080/"
        },
        "id": "m27t2M1TqOWA",
        "outputId": "6d5e798e-187f-4a49-a5cb-e5c070f6b807"
      },
      "execution_count": null,
      "outputs": [
        {
          "output_type": "stream",
          "name": "stdout",
          "text": [
            "Requirement already satisfied: transformers in /usr/local/lib/python3.10/dist-packages (4.46.3)\n",
            "Requirement already satisfied: filelock in /usr/local/lib/python3.10/dist-packages (from transformers) (3.16.1)\n",
            "Requirement already satisfied: huggingface-hub<1.0,>=0.23.2 in /usr/local/lib/python3.10/dist-packages (from transformers) (0.26.2)\n",
            "Requirement already satisfied: numpy>=1.17 in /usr/local/lib/python3.10/dist-packages (from transformers) (1.26.4)\n",
            "Requirement already satisfied: packaging>=20.0 in /usr/local/lib/python3.10/dist-packages (from transformers) (24.2)\n",
            "Requirement already satisfied: pyyaml>=5.1 in /usr/local/lib/python3.10/dist-packages (from transformers) (6.0.2)\n",
            "Requirement already satisfied: regex!=2019.12.17 in /usr/local/lib/python3.10/dist-packages (from transformers) (2024.9.11)\n",
            "Requirement already satisfied: requests in /usr/local/lib/python3.10/dist-packages (from transformers) (2.32.3)\n",
            "Requirement already satisfied: tokenizers<0.21,>=0.20 in /usr/local/lib/python3.10/dist-packages (from transformers) (0.20.3)\n",
            "Requirement already satisfied: safetensors>=0.4.1 in /usr/local/lib/python3.10/dist-packages (from transformers) (0.4.5)\n",
            "Requirement already satisfied: tqdm>=4.27 in /usr/local/lib/python3.10/dist-packages (from transformers) (4.66.6)\n",
            "Requirement already satisfied: fsspec>=2023.5.0 in /usr/local/lib/python3.10/dist-packages (from huggingface-hub<1.0,>=0.23.2->transformers) (2024.9.0)\n",
            "Requirement already satisfied: typing-extensions>=3.7.4.3 in /usr/local/lib/python3.10/dist-packages (from huggingface-hub<1.0,>=0.23.2->transformers) (4.12.2)\n",
            "Requirement already satisfied: charset-normalizer<4,>=2 in /usr/local/lib/python3.10/dist-packages (from requests->transformers) (3.4.0)\n",
            "Requirement already satisfied: idna<4,>=2.5 in /usr/local/lib/python3.10/dist-packages (from requests->transformers) (3.10)\n",
            "Requirement already satisfied: urllib3<3,>=1.21.1 in /usr/local/lib/python3.10/dist-packages (from requests->transformers) (2.2.3)\n",
            "Requirement already satisfied: certifi>=2017.4.17 in /usr/local/lib/python3.10/dist-packages (from requests->transformers) (2024.8.30)\n"
          ]
        },
        {
          "output_type": "stream",
          "name": "stderr",
          "text": [
            "/usr/local/lib/python3.10/dist-packages/huggingface_hub/utils/_auth.py:94: UserWarning: \n",
            "The secret `HF_TOKEN` does not exist in your Colab secrets.\n",
            "To authenticate with the Hugging Face Hub, create a token in your settings tab (https://huggingface.co/settings/tokens), set it as secret in your Google Colab and restart your session.\n",
            "You will be able to reuse this secret in all of your notebooks.\n",
            "Please note that authentication is recommended but still optional to access public models or datasets.\n",
            "  warnings.warn(\n"
          ]
        }
      ]
    },
    {
      "cell_type": "code",
      "source": [
        "# Define optimizer\n",
        "optimizer = torch.optim.AdamW(model.parameters(), lr=5e-5)\n",
        "\n",
        "# Move model to device\n",
        "device = torch.device('cuda' if torch.cuda.is_available() else 'cpu')\n",
        "model.to(device)\n",
        "\n",
        "# Training loop\n",
        "num_epochs = 5\n",
        "for epoch in range(num_epochs):\n",
        "    model.train()\n",
        "    total_loss = 0\n",
        "\n",
        "    for batch_idx, (images, input_ids, attention_masks) in enumerate(train_loader):\n",
        "        images = images.to(device)\n",
        "        input_ids = input_ids.to(device)\n",
        "        attention_masks = attention_masks.to(device)\n",
        "\n",
        "        # Forward pass\n",
        "        # Pass input_ids as input to the model along with pixel_values and labels\n",
        "        outputs = model(pixel_values=images, input_ids=input_ids, labels=input_ids)\n",
        "        loss = outputs.loss\n",
        "\n",
        "        # Backward pass\n",
        "        optimizer.zero_grad()\n",
        "        loss.backward()\n",
        "        optimizer.step()\n",
        "\n",
        "        total_loss += loss.item()\n",
        "\n",
        "    avg_loss = total_loss / len(train_loader)\n",
        "    print(f\"Epoch {epoch+1}/{num_epochs}, Loss: {avg_loss:.4f}\")"
      ],
      "metadata": {
        "colab": {
          "base_uri": "https://localhost:8080/"
        },
        "id": "uC41zj5mqHnd",
        "outputId": "96c7daed-badd-4a37-daa0-abe4c244b019"
      },
      "execution_count": null,
      "outputs": [
        {
          "output_type": "stream",
          "name": "stderr",
          "text": [
            "We strongly recommend passing in an `attention_mask` since your input_ids may be padded. See https://huggingface.co/docs/transformers/troubleshooting#incorrect-output-when-padding-tokens-arent-masked.\n"
          ]
        },
        {
          "output_type": "stream",
          "name": "stdout",
          "text": [
            "Epoch 1/5, Loss: 2.8916\n",
            "Epoch 2/5, Loss: 2.0427\n",
            "Epoch 3/5, Loss: 1.7769\n",
            "Epoch 4/5, Loss: 1.5690\n",
            "Epoch 5/5, Loss: 1.3834\n"
          ]
        }
      ]
    },
    {
      "cell_type": "code",
      "source": [
        "# prompt: plot thre model loss\n",
        "\n",
        "import matplotlib.pyplot as plt\n",
        "\n",
        "# Assuming you have a list called 'losses' that stores the loss values from each epoch\n",
        "# Replace this with your actual loss values\n",
        "losses = [2.89, 2.04, 1.77,1.56,1.34]\n",
        "\n",
        "epochs = range(1, len(losses) + 1)\n",
        "\n",
        "plt.plot(epochs, losses, marker='o', linestyle='-')\n",
        "plt.xlabel('Epoch')\n",
        "plt.ylabel('Loss')\n",
        "plt.title('Model Loss')\n",
        "plt.grid(True)\n",
        "plt.show()"
      ],
      "metadata": {
        "colab": {
          "base_uri": "https://localhost:8080/",
          "height": 472
        },
        "id": "8IvajHVC3U2J",
        "outputId": "828d9bdd-1542-4771-a801-83737b3ad0bb"
      },
      "execution_count": null,
      "outputs": [
        {
          "output_type": "display_data",
          "data": {
            "text/plain": [
              "<Figure size 640x480 with 1 Axes>"
            ],
            "image/png": "[encoded data removed]"
          },
          "metadata": {}
        }
      ]
    },
    {
      "cell_type": "code",
      "source": [
        "# prompt: perform bleu score based on model training\n",
        "\n",
        "from nltk.translate.bleu_score import sentence_bleu, SmoothingFunction\n",
        "import nltk\n",
        "nltk.download('punkt')\n",
        "\n",
        "# ... (Your existing code) ...\n",
        "\n",
        "# Evaluation loop (after training)\n",
        "model.eval()  # Set the model to evaluation mode\n",
        "\n",
        "references = []\n",
        "candidates = []\n",
        "\n",
        "# Assuming you have a test_loader for the test data\n",
        "# Replace this with your actual test_loader\n",
        "test_loader = DataLoader(dataset, batch_size=1) # Use the same dataset for simplicity\n",
        "smoothie = SmoothingFunction().method4\n",
        "\n",
        "for batch_idx, (images, input_ids, attention_masks) in enumerate(test_loader):\n",
        "    images = images.to(device)\n",
        "    input_ids = input_ids.to(device)\n",
        "    attention_masks = attention_masks.to(device)\n",
        "\n",
        "    with torch.no_grad():\n",
        "        # Generate captions\n",
        "        generated_ids = model.generate(pixel_values=images, max_length=50)\n",
        "\n",
        "    # Decode the generated captions and references\n",
        "    generated_caption = tokenizer.decode(generated_ids[0], skip_special_tokens=True)\n",
        "    reference_caption = tokenizer.decode(input_ids[0], skip_special_tokens=True)\n",
        "\n",
        "    candidates.append(generated_caption.split()) # split the generated caption to words\n",
        "    references.append([reference_caption.split()]) # split the reference caption to words\n",
        "\n",
        "\n",
        "bleu_scores = []\n",
        "for i in range(len(candidates)):\n",
        "  bleu_scores.append(sentence_bleu(references[i], candidates[i], smoothing_function = smoothie))\n",
        "\n",
        "# Calculate the average BLEU score\n",
        "average_bleu = sum(bleu_scores) / len(bleu_scores)\n",
        "\n",
        "print(f\"Average BLEU score: {average_bleu:.4f}\")"
      ],
      "metadata": {
        "colab": {
          "base_uri": "https://localhost:8080/",
          "height": 256
        },
        "id": "CxrIVKTW68bZ",
        "outputId": "d3cff70d-a022-4b79-aeeb-7405d238143a"
      },
      "execution_count": null,
      "outputs": [
        {
          "output_type": "stream",
          "name": "stderr",
          "text": [
            "[nltk_data] Downloading package punkt to /root/nltk_data...\n",
            "[nltk_data]   Unzipping tokenizers/punkt.zip.\n"
          ]
        },
        {
          "output_type": "error",
          "ename": "NameError",
          "evalue": "name 'model' is not defined",
          "traceback": [
            "\u001b[0;31m---------------------------------------------------------------------------\u001b[0m",
            "\u001b[0;31mNameError\u001b[0m                                 Traceback (most recent call last)",
            "\u001b[0;32m<ipython-input-1-62a5c02f2c6c>\u001b[0m in \u001b[0;36m<cell line: 10>\u001b[0;34m()\u001b[0m\n\u001b[1;32m      8\u001b[0m \u001b[0;34m\u001b[0m\u001b[0m\n\u001b[1;32m      9\u001b[0m \u001b[0;31m# Evaluation loop (after training)\u001b[0m\u001b[0;34m\u001b[0m\u001b[0;34m\u001b[0m\u001b[0m\n\u001b[0;32m---> 10\u001b[0;31m \u001b[0mmodel\u001b[0m\u001b[0;34m.\u001b[0m\u001b[0meval\u001b[0m\u001b[0;34m(\u001b[0m\u001b[0;34m)\u001b[0m  \u001b[0;31m# Set the model to evaluation mode\u001b[0m\u001b[0;34m\u001b[0m\u001b[0;34m\u001b[0m\u001b[0m\n\u001b[0m\u001b[1;32m     11\u001b[0m \u001b[0;34m\u001b[0m\u001b[0m\n\u001b[1;32m     12\u001b[0m \u001b[0mreferences\u001b[0m \u001b[0;34m=\u001b[0m \u001b[0;34m[\u001b[0m\u001b[0;34m]\u001b[0m\u001b[0;34m\u001b[0m\u001b[0;34m\u001b[0m\u001b[0m\n",
            "\u001b[0;31mNameError\u001b[0m: name 'model' is not defined"
          ]
        }
      ]
    },
    {
      "cell_type": "code",
      "source": [
        "# prompt: print model accuracy\n",
        "\n",
        "# Assuming 'avg_loss' is defined in your training loop\n",
        "print(f\"Final Average Loss: {avg_loss:.4f}\")"
      ],
      "metadata": {
        "colab": {
          "base_uri": "https://localhost:8080/"
        },
        "id": "gy8Y1oX_6lZx",
        "outputId": "12cd9e94-ce87-48c1-904e-0c8d60048cbc"
      },
      "execution_count": null,
      "outputs": [
        {
          "output_type": "stream",
          "name": "stdout",
          "text": [
            "Final Average Loss: 1.0729\n"
          ]
        }
      ]
    },
    {
      "cell_type": "code",
      "source": [
        "# prompt: save model for deployment\n",
        "\n",
        "import torch\n",
        "\n",
        "# Save the model's state dictionary\n",
        "torch.save(model.state_dict(), '/content/drive/MyDrive/radiology_model.pth')\n",
        "\n",
        "print(\"Model saved successfully!\")"
      ],
      "metadata": {
        "colab": {
          "base_uri": "https://localhost:8080/"
        },
        "id": "cQ9S1VNn3ded",
        "outputId": "21518709-26b5-410b-c5ff-c7db8175a9cb"
      },
      "execution_count": null,
      "outputs": [
        {
          "output_type": "stream",
          "name": "stdout",
          "text": [
            "Model saved successfully!\n"
          ]
        }
      ]
    },
    {
      "cell_type": "code",
      "source": [
        "# prompt: save model in h5\n",
        "\n",
        "# Save the model\n",
        "model.save_pretrained('/content/drive/MyDrive/radiology_model_h5')\n",
        "print(\"Model saved successfully!\")"
      ],
      "metadata": {
        "colab": {
          "base_uri": "https://localhost:8080/"
        },
        "id": "jBP3kKdc3mQL",
        "outputId": "1a47ac79-f781-479f-ce8b-053b09311f06"
      },
      "execution_count": null,
      "outputs": [
        {
          "output_type": "stream",
          "name": "stdout",
          "text": [
            "Model saved successfully!\n"
          ]
        }
      ]
    },
    {
      "cell_type": "code",
      "source": [
        "from nltk.translate.bleu_score import sentence_bleu, SmoothingFunction\n",
        "\n",
        "def compute_bleu_ngram(predictions, references, ngram_order=4):\n",
        "    chencherry = SmoothingFunction()\n",
        "    bleu_scores = []\n",
        "\n",
        "    for pred, ref in zip(predictions, references):\n",
        "        # Convert the tensor to a string before splitting\n",
        "        ref_split = ref.cpu().numpy().tolist()\n",
        "        ref_split = tokenizer.decode(ref_split).split()  # reference caption (one reference)\n",
        "\n",
        "        pred_split = pred.split()  # predicted caption\n",
        "\n",
        "        # Compute BLEU score for the specific n-gram order\n",
        "        bleu_scores.append(sentence_bleu([ref_split], pred_split, weights=[1.0/ngram_order] * ngram_order, smoothing_function=chencherry.method1))\n",
        "\n",
        "    # Average BLEU score\n",
        "    avg_bleu = sum(bleu_scores) / len(bleu_scores)\n",
        "    return avg_bleu\n",
        "\n",
        "# Assuming `predictions` and `references` are lists of strings\n",
        "bleu_score_4 = compute_bleu_ngram(predictions, references, ngram_order=4)\n",
        "print(f\"BLEU-4 Score: {bleu_score_4:.4f}\")"
      ],
      "metadata": {
        "colab": {
          "base_uri": "https://localhost:8080/"
        },
        "id": "6T18CwF2y5lB",
        "outputId": "64562745-2539-425f-f5cb-598c28a23d13"
      },
      "execution_count": null,
      "outputs": [
        {
          "output_type": "stream",
          "name": "stdout",
          "text": [
            "BLEU-4 Score: 0.0000\n"
          ]
        }
      ]
    },
    {
      "cell_type": "code",
      "source": [
        "from nltk.translate.bleu_score import corpus_bleu, SmoothingFunction\n",
        "\n",
        "# Use a smoothing function to avoid zero BLEU score for small overlaps\n",
        "smooth = SmoothingFunction().method4\n",
        "\n",
        "# Compute BLEU score with smoothing\n",
        "bleu_score = corpus_bleu(ref_tokens, pred_tokens, weights=(0.25, 0.25, 0.25, 0.25), smoothing_function=smooth)\n",
        "print(f\"Smoothed BLEU-4 Score: {bleu_score:.4f}\")\n"
      ],
      "metadata": {
        "colab": {
          "base_uri": "https://localhost:8080/"
        },
        "id": "WyKD2tNJ0jHZ",
        "outputId": "5b21eed9-7ede-4954-cbf8-4be4167b4d17"
      },
      "execution_count": null,
      "outputs": [
        {
          "output_type": "stream",
          "name": "stdout",
          "text": [
            "Smoothed BLEU-4 Score: 0.0139\n"
          ]
        }
      ]
    },
    {
      "cell_type": "code",
      "source": [
        "!pip install rouge-score # Install the rouge-score package"
      ],
      "metadata": {
        "colab": {
          "base_uri": "https://localhost:8080/"
        },
        "id": "qz7WKcS90-1Q",
        "outputId": "bdd07e5a-daf0-4654-f719-f6e97b6b8e00"
      },
      "execution_count": null,
      "outputs": [
        {
          "output_type": "stream",
          "name": "stdout",
          "text": [
            "Collecting rouge-score\n",
            "  Downloading rouge_score-0.1.2.tar.gz (17 kB)\n",
            "  Preparing metadata (setup.py) ... \u001b[?25l\u001b[?25hdone\n",
            "Requirement already satisfied: absl-py in /usr/local/lib/python3.10/dist-packages (from rouge-score) (1.4.0)\n",
            "Requirement already satisfied: nltk in /usr/local/lib/python3.10/dist-packages (from rouge-score) (3.9.1)\n",
            "Requirement already satisfied: numpy in /usr/local/lib/python3.10/dist-packages (from rouge-score) (1.26.4)\n",
            "Requirement already satisfied: six>=1.14.0 in /usr/local/lib/python3.10/dist-packages (from rouge-score) (1.16.0)\n",
            "Requirement already satisfied: click in /usr/local/lib/python3.10/dist-packages (from nltk->rouge-score) (8.1.7)\n",
            "Requirement already satisfied: joblib in /usr/local/lib/python3.10/dist-packages (from nltk->rouge-score) (1.4.2)\n",
            "Requirement already satisfied: regex>=2021.8.3 in /usr/local/lib/python3.10/dist-packages (from nltk->rouge-score) (2024.9.11)\n",
            "Requirement already satisfied: tqdm in /usr/local/lib/python3.10/dist-packages (from nltk->rouge-score) (4.66.6)\n",
            "Building wheels for collected packages: rouge-score\n",
            "  Building wheel for rouge-score (setup.py) ... \u001b[?25l\u001b[?25hdone\n",
            "  Created wheel for rouge-score: filename=rouge_score-0.1.2-py3-none-any.whl size=24935 sha256=fa04e65628a97cea69d2d0f499771dd2413dec7acc1c824c0af17be2c3ba536e\n",
            "  Stored in directory: /root/.cache/pip/wheels/5f/dd/89/461065a73be61a532ff8599a28e9beef17985c9e9c31e541b4\n",
            "Successfully built rouge-score\n",
            "Installing collected packages: rouge-score\n",
            "Successfully installed rouge-score-0.1.2\n"
          ]
        }
      ]
    },
    {
      "cell_type": "code",
      "source": [
        "from rouge_score import rouge_scorer\n",
        "\n",
        "scorer = rouge_scorer.RougeScorer(['rouge1', 'rougeL'], use_stemmer=True)\n",
        "\n",
        "# Example for a single prediction-reference pair\n",
        "pred_caption = \"ct scan of abdomen showing a mass in the right upper lobe ( arrow )\"\n",
        "ref_caption = \"ct scan shows a mass in the right upper quadrant of the abdomen\"\n",
        "\n",
        "scores = scorer.score(ref_caption, pred_caption)\n",
        "print(f\"ROUGE-1 Score: {scores['rouge1']}\")\n",
        "print(f\"ROUGE-L Score: {scores['rougeL']}\")\n"
      ],
      "metadata": {
        "colab": {
          "base_uri": "https://localhost:8080/"
        },
        "id": "fUaSwI6O0jEe",
        "outputId": "3ca456a7-728d-4cc0-abb3-bbd771f9ce7e"
      },
      "execution_count": null,
      "outputs": [
        {
          "output_type": "stream",
          "name": "stdout",
          "text": [
            "ROUGE-1 Score: Score(precision=0.8461538461538461, recall=0.8461538461538461, fmeasure=0.8461538461538461)\n",
            "ROUGE-L Score: Score(precision=0.6923076923076923, recall=0.6923076923076923, fmeasure=0.6923076923076923)\n"
          ]
        }
      ]
    },
    {
      "cell_type": "code",
      "source": [
        "# Assuming references_train and predictions_train are lists of strings\n",
        "references_train = [\"A CT scan showing a mass in the abdomen.\"]\n",
        "predictions_train = [\"The CT scan shows a mass in the abdomen.\"]\n",
        "\n",
        "references_val = [\"An X-ray of the chest showing signs of pneumonia.\"]\n",
        "predictions_val = [\"Chest X-ray indicates possible pneumonia.\"]\n",
        "\n",
        "references_test = [\"MRI scan shows a lesion in the left temporal lobe.\"]\n",
        "predictions_test = [\"The MRI reveals a lesion in the left temporal lobe.\"]\n",
        "\n",
        "# Tokenizing references and predictions for BLEU\n",
        "decoded_references_train = [[ref.split()] for ref in references_train]\n",
        "decoded_predictions_train = [pred.split() for pred in predictions_train]\n",
        "\n",
        "decoded_references_val = [[ref.split()] for ref in references_val]\n",
        "decoded_predictions_val = [pred.split() for pred in predictions_val]\n",
        "\n",
        "decoded_references_test = [[ref.split()] for ref in references_test]\n",
        "decoded_predictions_test = [pred.split() for pred in predictions_test]\n",
        "\n",
        "# BLEU-4 Score for training set\n",
        "from nltk.translate.bleu_score import sentence_bleu, SmoothingFunction\n",
        "smoothie = SmoothingFunction().method1\n",
        "\n",
        "bleu_train = [sentence_bleu(refs, pred, smoothing_function=smoothie)\n",
        "              for refs, pred in zip(decoded_references_train, decoded_predictions_train)]\n",
        "bleu_val = [sentence_bleu(refs, pred, smoothing_function=smoothie)\n",
        "            for refs, pred in zip(decoded_references_val, decoded_predictions_val)]\n",
        "bleu_test = [sentence_bleu(refs, pred, smoothing_function=smoothie)\n",
        "             for refs, pred in zip(decoded_references_test, decoded_predictions_test)]\n",
        "\n",
        "# Print average BLEU-4 scores\n",
        "print(f\"Training BLEU-4 Score: {sum(bleu_train) / len(bleu_train):.4f}\")\n",
        "print(f\"Validation BLEU-4 Score: {sum(bleu_val) / len(bleu_val):.4f}\")\n",
        "print(f\"Test BLEU-4 Score: {sum(bleu_test) / len(bleu_test):.4f}\")\n"
      ],
      "metadata": {
        "colab": {
          "base_uri": "https://localhost:8080/"
        },
        "id": "ozR1lcl-1lHq",
        "outputId": "f436e7d8-4076-4592-b798-f84bed11addf"
      },
      "execution_count": null,
      "outputs": [
        {
          "output_type": "stream",
          "name": "stdout",
          "text": [
            "Training BLEU-4 Score: 0.5133\n",
            "Validation BLEU-4 Score: 0.0287\n",
            "Test BLEU-4 Score: 0.6606\n"
          ]
        }
      ]
    },
    {
      "cell_type": "code",
      "source": [
        "model.eval()\n"
      ],
      "metadata": {
        "colab": {
          "base_uri": "https://localhost:8080/"
        },
        "id": "k32d72gi187_",
        "outputId": "3238ce15-ddcd-46d5-deb0-240700cbeb36"
      },
      "execution_count": null,
      "outputs": [
        {
          "output_type": "execute_result",
          "data": {
            "text/plain": [
              "GitForCausalLM(\n",
              "  (git): GitModel(\n",
              "    (embeddings): GitEmbeddings(\n",
              "      (word_embeddings): Embedding(30522, 768, padding_idx=0)\n",
              "      (position_embeddings): Embedding(1024, 768)\n",
              "      (LayerNorm): LayerNorm((768,), eps=1e-12, elementwise_affine=True)\n",
              "      (dropout): Dropout(p=0.1, inplace=False)\n",
              "    )\n",
              "    (image_encoder): GitVisionModel(\n",
              "      (vision_model): GitVisionTransformer(\n",
              "        (embeddings): GitVisionEmbeddings(\n",
              "          (patch_embedding): Conv2d(3, 768, kernel_size=(16, 16), stride=(16, 16), bias=False)\n",
              "          (position_embedding): Embedding(197, 768)\n",
              "        )\n",
              "        (pre_layrnorm): LayerNorm((768,), eps=1e-05, elementwise_affine=True)\n",
              "        (encoder): GitVisionEncoder(\n",
              "          (layers): ModuleList(\n",
              "            (0-11): 12 x GitVisionEncoderLayer(\n",
              "              (self_attn): GitVisionAttention(\n",
              "                (k_proj): Linear(in_features=768, out_features=768, bias=True)\n",
              "                (v_proj): Linear(in_features=768, out_features=768, bias=True)\n",
              "                (q_proj): Linear(in_features=768, out_features=768, bias=True)\n",
              "                (out_proj): Linear(in_features=768, out_features=768, bias=True)\n",
              "              )\n",
              "              (layer_norm1): LayerNorm((768,), eps=1e-05, elementwise_affine=True)\n",
              "              (mlp): GitVisionMLP(\n",
              "                (activation_fn): QuickGELUActivation()\n",
              "                (fc1): Linear(in_features=768, out_features=3072, bias=True)\n",
              "                (fc2): Linear(in_features=3072, out_features=768, bias=True)\n",
              "              )\n",
              "              (layer_norm2): LayerNorm((768,), eps=1e-05, elementwise_affine=True)\n",
              "            )\n",
              "          )\n",
              "        )\n",
              "        (post_layernorm): LayerNorm((768,), eps=1e-05, elementwise_affine=True)\n",
              "      )\n",
              "    )\n",
              "    (encoder): GitEncoder(\n",
              "      (layer): ModuleList(\n",
              "        (0-5): 6 x GitLayer(\n",
              "          (attention): GitAttention(\n",
              "            (self): GitSelfAttention(\n",
              "              (query): Linear(in_features=768, out_features=768, bias=True)\n",
              "              (key): Linear(in_features=768, out_features=768, bias=True)\n",
              "              (value): Linear(in_features=768, out_features=768, bias=True)\n",
              "              (dropout): Dropout(p=0.1, inplace=False)\n",
              "            )\n",
              "            (output): GitSelfOutput(\n",
              "              (dense): Linear(in_features=768, out_features=768, bias=True)\n",
              "              (LayerNorm): LayerNorm((768,), eps=1e-12, elementwise_affine=True)\n",
              "              (dropout): Dropout(p=0.1, inplace=False)\n",
              "            )\n",
              "          )\n",
              "          (intermediate): GitIntermediate(\n",
              "            (dense): Linear(in_features=768, out_features=3072, bias=True)\n",
              "            (intermediate_act_fn): GELUActivation()\n",
              "          )\n",
              "          (output): GitOutput(\n",
              "            (dense): Linear(in_features=3072, out_features=768, bias=True)\n",
              "            (LayerNorm): LayerNorm((768,), eps=1e-12, elementwise_affine=True)\n",
              "            (dropout): Dropout(p=0.1, inplace=False)\n",
              "          )\n",
              "        )\n",
              "      )\n",
              "    )\n",
              "    (visual_projection): GitProjection(\n",
              "      (visual_projection): Sequential(\n",
              "        (0): Linear(in_features=768, out_features=768, bias=True)\n",
              "        (1): LayerNorm((768,), eps=1e-05, elementwise_affine=True)\n",
              "      )\n",
              "    )\n",
              "  )\n",
              "  (output): Linear(in_features=768, out_features=30522, bias=True)\n",
              ")"
            ]
          },
          "metadata": {},
          "execution_count": 38
        }
      ]
    },
    {
      "cell_type": "code",
      "source": [
        "from PIL import Image\n",
        "from transformers import AutoTokenizer, AutoProcessor\n",
        "\n",
        "# Load your desired image processor\n",
        "processor = AutoProcessor.from_pretrained(\"microsoft/git-base\") # Replace with your model name\n",
        "\n",
        "# Define the preprocessing function\n",
        "def preprocess_images_and_captions(image):\n",
        "    # Process the image using your processor\n",
        "    pixel_values = processor(images=image, return_tensors=\"pt\").pixel_values\n",
        "\n",
        "    return pixel_values\n",
        "\n",
        "# Load and preprocess an image\n",
        "image_path = \"/content/lung.jpeg\"\n",
        "image = Image.open(image_path).convert(\"RGB\")\n",
        "processed_image = preprocess_images_and_captions(image)\n",
        "\n",
        "# Convert image to the format expected by the model\n",
        "input_tensor = processed_image.unsqueeze(0)  # Add batch dimension"
      ],
      "metadata": {
        "id": "QHqqi9Na2w-U"
      },
      "execution_count": null,
      "outputs": []
    },
    {
      "cell_type": "code",
      "source": [
        "with torch.no_grad():\n",
        "    # Ensure input_ids has the expected shape (batch_size, sequence_length)\n",
        "    # You might need to reshape or process input_tensor to obtain the correct input_ids\n",
        "    # Example: If input_tensor represents an image, you may need to encode it\n",
        "    # into a sequence of tokens using the model's encoder before generating text.\n",
        "\n",
        "    # Assuming you have a way to get input_ids from input_tensor:\n",
        "    # input_ids = model.get_input_embeddings(input_tensor) # Or a similar method\n",
        "\n",
        "    # Reshape to (batch_size, sequence_length) if necessary\n",
        "    # input_ids = input_ids.view(input_ids.size(0), -1)\n",
        "\n",
        "    outputs = model.generate(inputs=input_ids, max_new_tokens=50, num_beams=5)"
      ],
      "metadata": {
        "colab": {
          "base_uri": "https://localhost:8080/"
        },
        "id": "ahIyBSoS29R3",
        "outputId": "b5b3e664-827e-4e19-999a-e2b69082076e"
      },
      "execution_count": null,
      "outputs": [
        {
          "output_type": "stream",
          "name": "stderr",
          "text": [
            "A decoder-only architecture is being used, but right-padding was detected! For correct generation results, please set `padding_side='left'` when initializing the tokenizer.\n"
          ]
        }
      ]
    },
    {
      "cell_type": "code",
      "source": [
        "# Decode the output to get the caption\n",
        "tokenizer = AutoTokenizer.from_pretrained(\"microsoft/git-base\")\n",
        "caption = tokenizer.decode(outputs[0], skip_special_tokens=True)\n",
        "print(\"Generated Caption:\", caption)"
      ],
      "metadata": {
        "colab": {
          "base_uri": "https://localhost:8080/"
        },
        "id": "1OzxQABG3FDx",
        "outputId": "5271f2e1-d7c2-4a50-ef54-526686663a6a"
      },
      "execution_count": null,
      "outputs": [
        {
          "output_type": "stream",
          "name": "stdout",
          "text": [
            "Generated Caption: image id : rocov2 _ 2023 _ train _ 001316 caption : ct showing resolution of the hepatic portal venous gas ( case 1 ).\n"
          ]
        }
      ]
    },
    {
      "cell_type": "code",
      "source": [],
      "metadata": {
        "id": "5schO5hs3KZi"
      },
      "execution_count": null,
      "outputs": []
    }
  ]
}